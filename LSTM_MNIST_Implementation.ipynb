{
  "nbformat": 4,
  "nbformat_minor": 0,
  "metadata": {
    "colab": {
      "provenance": [],
      "gpuType": "T4",
      "authorship_tag": "ABX9TyO9R6iWxnKl2WfhVP9k0ceV",
      "include_colab_link": true
    },
    "kernelspec": {
      "name": "python3",
      "display_name": "Python 3"
    },
    "language_info": {
      "name": "python"
    },
    "accelerator": "GPU"
  },
  "cells": [
    {
      "cell_type": "markdown",
      "metadata": {
        "id": "view-in-github",
        "colab_type": "text"
      },
      "source": [
        "<a href=\"https://colab.research.google.com/github/arka57/RNN/blob/main/LSTM_MNIST_Implementation.ipynb\" target=\"_parent\"><img src=\"https://colab.research.google.com/assets/colab-badge.svg\" alt=\"Open In Colab\"/></a>"
      ]
    },
    {
      "cell_type": "markdown",
      "source": [
        "##**Task: Classification on MNIST dataset where digits photos will be classified into which digit it is. LSTM will be applied for performing the task**"
      ],
      "metadata": {
        "id": "ZU2TSQCJjVtX"
      }
    },
    {
      "cell_type": "code",
      "execution_count": null,
      "metadata": {
        "id": "_H8gTYL3gaK7"
      },
      "outputs": [],
      "source": [
        "# Imports\n",
        "import torch\n",
        "import torch.nn.functional as F  # Parameterless functions, like (some) activation functions\n",
        "import torchvision.datasets as datasets  # Standard datasets\n",
        "import torchvision.transforms as transforms  # Transformations we can perform on our dataset for augmentation\n",
        "from torch import optim  # For optimizers like SGD, Adam, etc.\n",
        "from torch import nn  # All neural network modules\n",
        "from torch.utils.data import (\n",
        "    DataLoader,\n",
        ")  # Gives easier dataset managment by creating mini batches etc.\n",
        "from tqdm import tqdm  # For a nice progress bar!\n",
        "\n",
        "import matplotlib.pyplot as plt\n",
        "# Set device\n",
        "device = \"cuda\" if torch.cuda.is_available() else \"cpu\""
      ]
    },
    {
      "cell_type": "code",
      "source": [
        "# Hyperparameters\n",
        "input_size = 28\n",
        "hidden_size = 256\n",
        "num_layers = 1\n",
        "output_size = 10\n",
        "sequence_length = 28\n",
        "learning_rate = 0.005\n",
        "batch_size = 64\n",
        "num_epochs = 2"
      ],
      "metadata": {
        "id": "UmhF072thbTv"
      },
      "execution_count": null,
      "outputs": []
    },
    {
      "cell_type": "code",
      "source": [
        "# Load Data\n",
        "train_dataset = datasets.MNIST(\n",
        "    root=\"dataset/\", train=True, transform=transforms.ToTensor(), download=True\n",
        ")\n",
        "test_dataset = datasets.MNIST(\n",
        "    root=\"dataset/\", train=False, transform=transforms.ToTensor(), download=True\n",
        ")\n",
        "train_loader = DataLoader(dataset=train_dataset, batch_size=batch_size, shuffle=True)\n",
        "test_loader = DataLoader(dataset=test_dataset, batch_size=batch_size, shuffle=True)"
      ],
      "metadata": {
        "id": "oIksblNFhjAH"
      },
      "execution_count": null,
      "outputs": []
    },
    {
      "cell_type": "markdown",
      "source": [
        "#Visualizing Data"
      ],
      "metadata": {
        "id": "IegSBPbriwgR"
      }
    },
    {
      "cell_type": "code",
      "source": [
        "print(train_dataset.data[0])"
      ],
      "metadata": {
        "id": "iGqXQSGJhnhT"
      },
      "execution_count": null,
      "outputs": []
    },
    {
      "cell_type": "code",
      "source": [
        "plt.imshow(train_dataset.data[0], cmap='gray')\n",
        "plt.title('%i' % train_dataset.targets[0])\n",
        "plt.show()"
      ],
      "metadata": {
        "colab": {
          "base_uri": "https://localhost:8080/",
          "height": 452
        },
        "id": "eZ_aXn_qi5nw",
        "outputId": "6680cc76-0d92-43aa-a169-19956735dbc6"
      },
      "execution_count": null,
      "outputs": [
        {
          "output_type": "display_data",
          "data": {
            "text/plain": [
              "<Figure size 640x480 with 1 Axes>"
            ],
            "image/png": "[encoded data removed]"
          },
          "metadata": {}
        }
      ]
    },
    {
      "cell_type": "code",
      "source": [
        "print(train_dataset.targets[0])"
      ],
      "metadata": {
        "colab": {
          "base_uri": "https://localhost:8080/"
        },
        "id": "7tYlyzgZilnP",
        "outputId": "eb58eede-fdcf-4f89-fb6b-9c6774a61cfa"
      },
      "execution_count": null,
      "outputs": [
        {
          "output_type": "stream",
          "name": "stdout",
          "text": [
            "tensor(5)\n"
          ]
        }
      ]
    },
    {
      "cell_type": "markdown",
      "source": [
        "#Model"
      ],
      "metadata": {
        "id": "WTzwNjJKlZjR"
      }
    },
    {
      "cell_type": "code",
      "source": [
        "class LSTM(nn.Module):\n",
        "    def __init__(self,input_size,hidden_size,output_size,num_layers):\n",
        "        super(LSTM,self).__init__()\n",
        "        self.hidden_size=hidden_size\n",
        "        self.num_layers=num_layers\n",
        "        self.lstm=nn.LSTM(input_size,hidden_size,batch_first=True)\n",
        "        self.fc=nn.Linear(hidden_size,output_size)\n",
        "\n",
        "    def forward(self,x):\n",
        "\n",
        "        #initialising hidden state and cell state\n",
        "        h0=torch.zeros(self.num_layers,x.size(0),self.hidden_size).to(device)\n",
        "        c0=torch.zeros(self.num_layers,x.size(0),self.hidden_size).to(device)\n",
        "\n",
        "        out,_=self.lstm(x,(h0,c0))\n",
        "\n",
        "        #taking output of the last timestamp\n",
        "        out=self.fc(out[:,-1,:])\n",
        "        return out"
      ],
      "metadata": {
        "id": "50FfDNVflbE9"
      },
      "execution_count": null,
      "outputs": []
    },
    {
      "cell_type": "markdown",
      "source": [
        "#Initialize network"
      ],
      "metadata": {
        "id": "yROki_B9yiH4"
      }
    },
    {
      "cell_type": "code",
      "source": [
        "model=LSTM(input_size,hidden_size,output_size,num_layers).to(device)"
      ],
      "metadata": {
        "id": "XqtuIZHzyh4Q"
      },
      "execution_count": null,
      "outputs": []
    },
    {
      "cell_type": "markdown",
      "source": [
        "#Loss and optimizer"
      ],
      "metadata": {
        "id": "6pJsjzf3yv85"
      }
    },
    {
      "cell_type": "code",
      "source": [
        "criterion = nn.CrossEntropyLoss()\n",
        "opt = optim.Adam(model.parameters(), lr=learning_rate)"
      ],
      "metadata": {
        "id": "DzT3CfMmyvmK"
      },
      "execution_count": null,
      "outputs": []
    },
    {
      "cell_type": "markdown",
      "source": [
        "# Evaluation"
      ],
      "metadata": {
        "id": "iGug_cwX2yIY"
      }
    },
    {
      "cell_type": "code",
      "source": [
        "def evaluation(dataloader):\n",
        "    total=0\n",
        "    correct=0\n",
        "    for i in dataloader:\n",
        "        data,targets=i\n",
        "        data = data.to(device=device).squeeze(1)\n",
        "        targets = targets.to(device=device)\n",
        "        output=model(data)\n",
        "        _,pred=torch.max(output,1)\n",
        "        total+=targets.size(0)\n",
        "        correct+=(pred==targets).sum().item()\n",
        "    return (correct/total)*100"
      ],
      "metadata": {
        "id": "PhQno1Q_20j9"
      },
      "execution_count": null,
      "outputs": []
    },
    {
      "cell_type": "markdown",
      "source": [
        "# Training Network"
      ],
      "metadata": {
        "id": "BXn2FdkdzZSh"
      }
    },
    {
      "cell_type": "code",
      "source": [
        "loss_epoch=[]"
      ],
      "metadata": {
        "id": "30PgeNXH3otR"
      },
      "execution_count": null,
      "outputs": []
    },
    {
      "cell_type": "code",
      "source": [
        "for epoch in range(num_epochs):\n",
        "    for batch_id,(data,targets) in enumerate(tqdm(train_loader)):\n",
        "        data = data.to(device=device).squeeze(1) # dataloader has Nx1x28x28 shape. LSTM wants Nx28x28 shape so we squeeze dimension 1\n",
        "        targets = targets.to(device=device)\n",
        "\n",
        "        output=model(data)\n",
        "        loss=criterion(output,targets)\n",
        "\n",
        "        opt.zero_grad()\n",
        "        loss.backward()\n",
        "        opt.step()\n",
        "    loss_epoch.append(loss.item())\n",
        "    print('Epoch %d/%d ,Training accuracy %0.2f,Test Accuracy %0.2f' %(epoch,num_epochs,evaluation(train_loader),evaluation(test_loader)))\n",
        "plt.plot(loss_epoch)\n",
        "plt.show()"
      ],
      "metadata": {
        "colab": {
          "base_uri": "https://localhost:8080/",
          "height": 502
        },
        "id": "TDBcIb-UzcVr",
        "outputId": "a2907e97-b15e-43f6-e965-574215af7efd"
      },
      "execution_count": null,
      "outputs": [
        {
          "output_type": "stream",
          "name": "stderr",
          "text": [
            "100%|██████████| 938/938 [00:10<00:00, 87.52it/s]\n"
          ]
        },
        {
          "output_type": "stream",
          "name": "stdout",
          "text": [
            "Epoch 0/2 ,Training accuracy 98.55,Test Accuracy 98.45\n"
          ]
        },
        {
          "output_type": "stream",
          "name": "stderr",
          "text": [
            "100%|██████████| 938/938 [00:11<00:00, 82.60it/s]\n"
          ]
        },
        {
          "output_type": "stream",
          "name": "stdout",
          "text": [
            "Epoch 1/2 ,Training accuracy 98.79,Test Accuracy 98.17\n"
          ]
        },
        {
          "output_type": "display_data",
          "data": {
            "text/plain": [
              "<Figure size 640x480 with 1 Axes>"
            ],
            "image/png": "[encoded data removed]"
          },
          "metadata": {}
        }
      ]
    },
    {
      "cell_type": "markdown",
      "source": [],
      "metadata": {
        "id": "WtpBHJ222wxo"
      }
    }
  ]
}